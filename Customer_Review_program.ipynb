{
 "cells": [
  {
   "cell_type": "code",
   "execution_count": 1,
   "id": "4eaf307d",
   "metadata": {},
   "outputs": [],
   "source": [
    "from bs4 import BeautifulSoup\n",
    "import requests\n",
    "import numpy as np\n",
    "import pandas as pd"
   ]
  },
  {
   "cell_type": "code",
   "execution_count": 4,
   "id": "d9c1857d",
   "metadata": {},
   "outputs": [],
   "source": [
    "URL = 'https://www.amazon.in/Mamaearth-Natural-Turmeric-Saffron-Removal/product-reviews/B0B3XCVQPR/ref=cm_cr_dp_d_show_all_btm?ie=UTF8&reviewerType=all_reviews'"
   ]
  },
  {
   "cell_type": "code",
   "execution_count": 5,
   "id": "c26b066e",
   "metadata": {},
   "outputs": [],
   "source": [
    "page = requests.get(URL)"
   ]
  },
  {
   "cell_type": "code",
   "execution_count": 9,
   "id": "c2fb3b7b",
   "metadata": {},
   "outputs": [
    {
     "name": "stdout",
     "output_type": "stream",
     "text": [
      "Data Fetched successfully 0\n",
      "Data Fetched successfully 1\n",
      "Data Fetched successfully 2\n",
      "URL Not found 3\n",
      "Data Fetched successfully 4\n",
      "URL Not found 5\n",
      "Data Fetched successfully 6\n",
      "URL Not found 7\n",
      "URL Not found 8\n",
      "Data Fetched successfully 9\n"
     ]
    }
   ],
   "source": [
    "Data =[]\n",
    "QN =1\n",
    "for i in range(0,10):\n",
    "    URL = 'https://www.amazon.in/Mamaearth-Natural-Turmeric-Saffron-Removal/product-reviews/B0B3XCVQPR/ref=cm_cr_dp_d_show_all_btm?ie=UTF8&reviewerType=all_reviews'\n",
    "    PAGE = requests.get(URL)\n",
    "    if(PAGE.status_code == 200):\n",
    "        print('Data Fetched successfully', i)\n",
    "        SOUP = BeautifulSoup(PAGE.content, 'html.parser')\n",
    "        Boxes = SOUP.findAll(attrs = {'class':'a-size-base review-text review-text-content'})\n",
    "        Review = Boxes[i].text.replace('\\n','') #review\n",
    "        \n",
    "        Names = SOUP.findAll(attrs = {'class':'a-profile-name'})\n",
    "        name = Names[i].text  # name\n",
    "        \n",
    "        Date_of_review = SOUP.findAll(attrs = {'class':'a-size-base a-color-secondary review-date'})\n",
    "        date = Date_of_review[i].text   #date\n",
    "        \n",
    "        Rating = SOUP.findAll(attrs = {'class':'a-icon-alt'})\n",
    "        rating_5 = Rating[i].text   #rating\n",
    "        \n",
    "        Review_title= SOUP.findAll(attrs = {'class':'a-size-base a-link-normal review-title a-color-base review-title-content a-text-bold'})\n",
    "        review_title = Review_title[i].text.replace('\\n','')   #review title\n",
    "        \n",
    "        Data.insert(QN,[name,date, rating_5, review_title, Review])\n",
    "        QN +=1\n",
    "    else:\n",
    "        print('URL Not found', i)\n",
    "\n",
    "\n",
    "Cust_Rev = pd.DataFrame(Data, columns= ['Names', 'Date_of_review', 'Rating', 'Review_title', 'Reviews'])\n",
    "Cust_Rev\n",
    "Cust_Rev.to_csv('Page_data.csv')"
   ]
  }
 ],
 "metadata": {
  "kernelspec": {
   "display_name": "Python 3",
   "language": "python",
   "name": "python3"
  },
  "language_info": {
   "codemirror_mode": {
    "name": "ipython",
    "version": 3
   },
   "file_extension": ".py",
   "mimetype": "text/x-python",
   "name": "python",
   "nbconvert_exporter": "python",
   "pygments_lexer": "ipython3",
   "version": "3.8.8"
  }
 },
 "nbformat": 4,
 "nbformat_minor": 5
}
